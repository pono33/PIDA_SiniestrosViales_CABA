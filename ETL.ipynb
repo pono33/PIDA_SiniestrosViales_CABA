{
 "cells": [
  {
   "cell_type": "markdown",
   "metadata": {},
   "source": [
    "# ETL\n",
    "\n",
    "Este proceso de ETL se concentra únicamente en extraer y transformar los datos necesarios en relación a la población de CABA para los años de 2016 a 2021."
   ]
  },
  {
   "cell_type": "code",
   "execution_count": 12,
   "metadata": {},
   "outputs": [],
   "source": [
    "# Importacion de librerias\n",
    "import pandas as pd\n",
    "import requests\n",
    "from bs4 import BeautifulSoup"
   ]
  },
  {
   "cell_type": "code",
   "execution_count": 13,
   "metadata": {},
   "outputs": [],
   "source": [
    "# Funcion para realizar web-scrapping\n",
    "\n",
    "def get_population_data():\n",
    "    \"\"\"\n",
    "    Extrae los datos de población de CABA para los años 2010, 2015 y 2020 mediante web scraping.\n",
    "\n",
    "    Devuelve:\n",
    "        Una lista de tuplas con los siguientes datos:\n",
    "            * Jurisdicción\n",
    "            * Población en el año 2010\n",
    "            * Población en el año 2015\n",
    "            * Población en el año 2020\n",
    "    \"\"\"\n",
    "\n",
    "    url = \"https://www.ign.gob.ar/NuestrasActividades/Geografia/DatosArgentina/Poblacion2\"\n",
    "    response = requests.get(url)\n",
    "    soup = BeautifulSoup(response.content, \"html.parser\")\n",
    "\n",
    "    table = soup.find(\"table\", class_=\"table table-striped pob2020\")\n",
    "    rows = table.find_all(\"tr\")\n",
    "\n",
    "    data = []\n",
    "\n",
    "    # Iterar a través de las filas (tr) después de la primera fila (encabezados)\n",
    "    for row in rows[1:]:\n",
    "        cells = row.find_all([\"th\", \"td\"])\n",
    "        jurisdiccion = cells[0].text\n",
    "        poblacion_2010 = cells[1].text\n",
    "        poblacion_2015 = cells[2].text\n",
    "        poblacion_2020 = cells[3].text\n",
    "        data.append((jurisdiccion, poblacion_2010, poblacion_2015, poblacion_2020))\n",
    "\n",
    "    # Filtrar solo el registro que contiene 'Ciudad Autónoma de Buenos Aires' en la columna '0'\n",
    "    filtered_data = [row for row in data if 'Ciudad Autónoma de Buenos Aires' in row[0]]\n",
    "\n",
    "    return filtered_data"
   ]
  },
  {
   "cell_type": "code",
   "execution_count": 14,
   "metadata": {},
   "outputs": [
    {
     "data": {
      "text/plain": [
       "[('Ciudad Autónoma de Buenos Aires', '2.890.151', '3.054.267', '3.075.646')]"
      ]
     },
     "execution_count": 14,
     "metadata": {},
     "output_type": "execute_result"
    }
   ],
   "source": [
    "# Aplicacion de la Funcion get_population_data\n",
    "data = get_population_data()\n",
    "data"
   ]
  },
  {
   "cell_type": "code",
   "execution_count": 15,
   "metadata": {},
   "outputs": [
    {
     "name": "stdout",
     "output_type": "stream",
     "text": [
      "    Año  Población estimada\n",
      "1  2015             3054267\n",
      "2  2020             3075646\n"
     ]
    }
   ],
   "source": [
    "# Convertir la lista de tuplas a un DataFrame\n",
    "poblacion = pd.DataFrame(data, columns=['Jurisdicción', '2010', '2015', '2020'])\n",
    "\n",
    "# Eliminar los puntos de miles en las columnas numéricas\n",
    "poblacion[['2010', '2015', '2020']] = poblacion[['2010', '2015', '2020']].apply(lambda x: x.str.replace('.', '').astype(int))\n",
    "\n",
    "# Configurar la columna 'Jurisdicción' como índice\n",
    "poblacion.set_index('Jurisdicción', inplace=True)\n",
    "\n",
    "# Transponer el DataFrame para intercambiar filas y columnas\n",
    "poblacion = poblacion.transpose()\n",
    "\n",
    "# Renombrar las columnas\n",
    "poblacion.columns = ['Población estimada']\n",
    "\n",
    "# Restablecer el índice para obtener las columnas 'Año' y 'Población estimada'\n",
    "poblacion.reset_index(inplace=True)\n",
    "\n",
    "# Renombrar la columna 'index' a 'Año'\n",
    "poblacion.rename(columns={'index': 'Año'}, inplace=True)\n",
    "\n",
    "# Eliminar registros con 'Año' igual a 2010 \n",
    "poblacion = poblacion[~poblacion['Año'].isin(['2010'])]\n",
    "\n",
    "# Mostrar el DataFrame resultante\n",
    "print(poblacion)\n"
   ]
  },
  {
   "cell_type": "code",
   "execution_count": 16,
   "metadata": {},
   "outputs": [],
   "source": [
    "poblacion['Año'] = pd.to_numeric(poblacion['Año'])\n",
    "\n",
    "poblacion.info()"
   ]
  },
  {
   "cell_type": "code",
   "execution_count": 18,
   "metadata": {},
   "outputs": [
    {
     "data": {
      "text/html": [
       "<div>\n",
       "<style scoped>\n",
       "    .dataframe tbody tr th:only-of-type {\n",
       "        vertical-align: middle;\n",
       "    }\n",
       "\n",
       "    .dataframe tbody tr th {\n",
       "        vertical-align: top;\n",
       "    }\n",
       "\n",
       "    .dataframe thead th {\n",
       "        text-align: right;\n",
       "    }\n",
       "</style>\n",
       "<table border=\"1\" class=\"dataframe\">\n",
       "  <thead>\n",
       "    <tr style=\"text-align: right;\">\n",
       "      <th></th>\n",
       "      <th>Año</th>\n",
       "      <th>Población estimada</th>\n",
       "    </tr>\n",
       "  </thead>\n",
       "  <tbody>\n",
       "    <tr>\n",
       "      <th>0</th>\n",
       "      <td>2015</td>\n",
       "      <td>3054267.0</td>\n",
       "    </tr>\n",
       "    <tr>\n",
       "      <th>1</th>\n",
       "      <td>2016</td>\n",
       "      <td>NaN</td>\n",
       "    </tr>\n",
       "    <tr>\n",
       "      <th>2</th>\n",
       "      <td>2017</td>\n",
       "      <td>NaN</td>\n",
       "    </tr>\n",
       "    <tr>\n",
       "      <th>3</th>\n",
       "      <td>2018</td>\n",
       "      <td>NaN</td>\n",
       "    </tr>\n",
       "    <tr>\n",
       "      <th>4</th>\n",
       "      <td>2019</td>\n",
       "      <td>NaN</td>\n",
       "    </tr>\n",
       "    <tr>\n",
       "      <th>5</th>\n",
       "      <td>2020</td>\n",
       "      <td>3075646.0</td>\n",
       "    </tr>\n",
       "    <tr>\n",
       "      <th>6</th>\n",
       "      <td>2021</td>\n",
       "      <td>NaN</td>\n",
       "    </tr>\n",
       "  </tbody>\n",
       "</table>\n",
       "</div>"
      ],
      "text/plain": [
       "    Año  Población estimada\n",
       "0  2015           3054267.0\n",
       "1  2016                 NaN\n",
       "2  2017                 NaN\n",
       "3  2018                 NaN\n",
       "4  2019                 NaN\n",
       "5  2020           3075646.0\n",
       "6  2021                 NaN"
      ]
     },
     "execution_count": 18,
     "metadata": {},
     "output_type": "execute_result"
    }
   ],
   "source": [
    "# Agregar años adicionales\n",
    "df_nuevos_años = pd.DataFrame({'Año': [2016, 2017, 2018, 2019, 2021]}, dtype=int)\n",
    "\n",
    "# Unir los DataFrames \n",
    "poblacion = pd.concat([poblacion, df_nuevos_años], ignore_index=True)\n",
    "\n",
    "# Reordenar el DataFrame según los valores de la columna 'Año' en orden ascendente\n",
    "poblacion = poblacion.sort_values(by='Año', ascending=True).reset_index(drop=True)\n",
    "\n",
    "poblacion"
   ]
  },
  {
   "cell_type": "code",
   "execution_count": 19,
   "metadata": {},
   "outputs": [
    {
     "data": {
      "text/html": [
       "<div>\n",
       "<style scoped>\n",
       "    .dataframe tbody tr th:only-of-type {\n",
       "        vertical-align: middle;\n",
       "    }\n",
       "\n",
       "    .dataframe tbody tr th {\n",
       "        vertical-align: top;\n",
       "    }\n",
       "\n",
       "    .dataframe thead th {\n",
       "        text-align: right;\n",
       "    }\n",
       "</style>\n",
       "<table border=\"1\" class=\"dataframe\">\n",
       "  <thead>\n",
       "    <tr style=\"text-align: right;\">\n",
       "      <th></th>\n",
       "      <th>Año</th>\n",
       "      <th>Población estimada</th>\n",
       "    </tr>\n",
       "  </thead>\n",
       "  <tbody>\n",
       "    <tr>\n",
       "      <th>1</th>\n",
       "      <td>2016</td>\n",
       "      <td>3058543</td>\n",
       "    </tr>\n",
       "    <tr>\n",
       "      <th>2</th>\n",
       "      <td>2017</td>\n",
       "      <td>3062819</td>\n",
       "    </tr>\n",
       "    <tr>\n",
       "      <th>3</th>\n",
       "      <td>2018</td>\n",
       "      <td>3067094</td>\n",
       "    </tr>\n",
       "    <tr>\n",
       "      <th>4</th>\n",
       "      <td>2019</td>\n",
       "      <td>3071370</td>\n",
       "    </tr>\n",
       "    <tr>\n",
       "      <th>5</th>\n",
       "      <td>2020</td>\n",
       "      <td>3075646</td>\n",
       "    </tr>\n",
       "    <tr>\n",
       "      <th>6</th>\n",
       "      <td>2021</td>\n",
       "      <td>3079922</td>\n",
       "    </tr>\n",
       "  </tbody>\n",
       "</table>\n",
       "</div>"
      ],
      "text/plain": [
       "    Año  Población estimada\n",
       "1  2016             3058543\n",
       "2  2017             3062819\n",
       "3  2018             3067094\n",
       "4  2019             3071370\n",
       "5  2020             3075646\n",
       "6  2021             3079922"
      ]
     },
     "execution_count": 19,
     "metadata": {},
     "output_type": "execute_result"
    }
   ],
   "source": [
    "# Calcular población estimada asumiendo un crecimiento lineal para los años 2016 a 2019\n",
    "poblacion['Población estimada'] = pd.to_numeric(poblacion['Población estimada'])\n",
    "pendiente = (poblacion.iloc[-2, 1] - poblacion.iloc[0, 1]) / (len(poblacion) - 2)\n",
    "\n",
    "# Asignar valores para los años 2016 a 2019\n",
    "for i in range(1, len(poblacion) - 1):\n",
    "    poblacion.at[i, 'Población estimada'] = round(poblacion.iloc[0, 1] + pendiente * (poblacion.iloc[i, 0] - poblacion.iloc[0, 0]))\n",
    "\n",
    "# Calcular población estimada para el año 2021\n",
    "poblacion.iloc[-1, 1] = round(poblacion.iloc[-2, 1] + pendiente)\n",
    "\n",
    "poblacion['Población estimada'] = poblacion['Población estimada'].astype(int)\n",
    "\n",
    "# Eliminar registros con 'Año' igual a 2015 \n",
    "poblacion = poblacion[~poblacion['Año'].isin([2015])]\n",
    "\n",
    "# DataFrame resultante\n",
    "poblacion\n"
   ]
  },
  {
   "cell_type": "code",
   "execution_count": 20,
   "metadata": {},
   "outputs": [],
   "source": [
    "# Exportacion datasets como archivo .csv\n",
    "poblacion.to_csv('datasets/procesados/poblacion_estimada', index=False)"
   ]
  }
 ],
 "metadata": {
  "kernelspec": {
   "display_name": "venv",
   "language": "python",
   "name": "python3"
  },
  "language_info": {
   "codemirror_mode": {
    "name": "ipython",
    "version": 3
   },
   "file_extension": ".py",
   "mimetype": "text/x-python",
   "name": "python",
   "nbconvert_exporter": "python",
   "pygments_lexer": "ipython3",
   "version": "3.11.4"
  }
 },
 "nbformat": 4,
 "nbformat_minor": 2
}
